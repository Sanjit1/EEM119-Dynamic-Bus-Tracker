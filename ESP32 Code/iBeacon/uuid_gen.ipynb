{
 "cells": [
  {
   "cell_type": "code",
   "execution_count": 43,
   "metadata": {},
   "outputs": [
    {
     "name": "stdout",
     "output_type": "stream",
     "text": [
      "9495EDC9-97B9-4F1B-8BEC-D2EDCF50B0DE\n",
      "DEB050CF-EDD2-EC8B-1B4F-B997C9ED9594\n"
     ]
    }
   ],
   "source": [
    "import uuid\n",
    "new_uuid = uuid.uuid4()\n",
    "# find the byte order reversed\n",
    "new_uuid_bytes = new_uuid.bytes\n",
    "new_uuid_bytes_reversed = str(new_uuid_bytes[::-1].hex())\n",
    "# this does not have the dashes\n",
    "new_uuid_bytes_reversed = new_uuid_bytes_reversed[:8] + \"-\" + new_uuid_bytes_reversed[8:12] + \"-\" + new_uuid_bytes_reversed[12:16] + \"-\" + new_uuid_bytes_reversed[16:20] + \"-\" + new_uuid_bytes_reversed[20:32]\n",
    "# convert to string\n",
    "print(str(new_uuid).upper())\n",
    "print(new_uuid_bytes_reversed.upper())\n"
   ]
  }
 ],
 "metadata": {
  "kernelspec": {
   "display_name": "Python 3",
   "language": "python",
   "name": "python3"
  },
  "language_info": {
   "codemirror_mode": {
    "name": "ipython",
    "version": 3
   },
   "file_extension": ".py",
   "mimetype": "text/x-python",
   "name": "python",
   "nbconvert_exporter": "python",
   "pygments_lexer": "ipython3",
   "version": "3.10.13"
  }
 },
 "nbformat": 4,
 "nbformat_minor": 2
}
