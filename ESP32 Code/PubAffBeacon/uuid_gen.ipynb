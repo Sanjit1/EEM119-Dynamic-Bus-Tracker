{
 "cells": [
  {
   "cell_type": "code",
   "execution_count": 8,
   "metadata": {},
   "outputs": [
    {
     "name": "stdout",
     "output_type": "stream",
     "text": [
      "EDD9A4A4-8CBB-434D-8AA6-6F433017972D\n"
     ]
    }
   ],
   "source": [
    "import uuid\n",
    "new_uuid = uuid.uuid4()\n",
    "# convert to string\n",
    "new_uuid_str = str(new_uuid)\n",
    "print(new_uuid_str.upper())\n"
   ]
  }
 ],
 "metadata": {
  "kernelspec": {
   "display_name": "Python 3",
   "language": "python",
   "name": "python3"
  },
  "language_info": {
   "codemirror_mode": {
    "name": "ipython",
    "version": 3
   },
   "file_extension": ".py",
   "mimetype": "text/x-python",
   "name": "python",
   "nbconvert_exporter": "python",
   "pygments_lexer": "ipython3",
   "version": "3.10.13"
  }
 },
 "nbformat": 4,
 "nbformat_minor": 2
}
